{
 "cells": [
  {
   "cell_type": "code",
   "execution_count": null,
   "id": "2a5db72d",
   "metadata": {},
   "outputs": [],
   "source": [
    "from flask import Flask, request, jsonify\n",
    "import joblib\n",
    "import numpy as np\n",
    "\n",
    "# Load the trained model and scaler\n",
    "model = joblib.load(\"random_forest_optimized.pkl\")  # Ensure the model file exists\n",
    "scaler = joblib.load(\"scaler.pkl\")\n",
    "\n",
    "# Initialize Flask app\n",
    "app = Flask(__name__)\n",
    "\n",
    "@app.route(\"/\")\n",
    "def home():\n",
    "    return \"Diabetes Prediction API is running!\"\n",
    "\n",
    "@app.route(\"/predict\", methods=[\"POST\"])\n",
    "def predict():\n",
    "    \"\"\"\n",
    "    Endpoint to predict diabetes based on input features.\n",
    "    Expected JSON input format:\n",
    "    {\n",
    "        \"features\": [Age, BMI, HBA1C, Fasting_Blood_Sugar, Cholesterol_Level]\n",
    "    }\n",
    "    \"\"\"\n",
    "    try:\n",
    "        # Get JSON data\n",
    "        data = request.json\n",
    "\n",
    "        # Validate input\n",
    "        if \"features\" not in data:\n",
    "            return jsonify({\"error\": \"Missing 'features' key in request JSON\"}), 400\n",
    "\n",
    "        # Convert input to numpy array and reshape for prediction\n",
    "        input_features = np.array(data[\"features\"]).reshape(1, -1)\n",
    "\n",
    "        # Scale input data\n",
    "        input_scaled = scaler.transform(input_features)\n",
    "\n",
    "        # Predict using the loaded model\n",
    "        prediction = model.predict(input_scaled)[0]\n",
    "\n",
    "        # Return the result as JSON\n",
    "        result = {\"prediction\": \"Diabetic\" if prediction == 1 else \"Non-Diabetic\"}\n",
    "        return jsonify(result)\n",
    "\n",
    "    except Exception as e:\n",
    "        return jsonify({\"error\": str(e)}), 500\n",
    "\n",
    "\n",
    "if __name__ == \"__main__\":\n",
    "    app.run(debug=True)\n"
   ]
  }
 ],
 "metadata": {
  "kernelspec": {
   "display_name": "Python 3 (ipykernel)",
   "language": "python",
   "name": "python3"
  },
  "language_info": {
   "codemirror_mode": {
    "name": "ipython",
    "version": 3
   },
   "file_extension": ".py",
   "mimetype": "text/x-python",
   "name": "python",
   "nbconvert_exporter": "python",
   "pygments_lexer": "ipython3",
   "version": "3.9.12"
  }
 },
 "nbformat": 4,
 "nbformat_minor": 5
}
