{
 "cells": [
  {
   "cell_type": "code",
   "execution_count": null,
   "id": "fa6c5468",
   "metadata": {},
   "outputs": [],
   "source": [
    "import streamlit as st\n",
    "import joblib\n",
    "import numpy as np\n",
    "\n",
    "# Load trained model and scaler\n",
    "rf_model = joblib.load(\"random_forest_optimized.pkl\")\n",
    "scaler = joblib.load(\"scaler.pkl\")\n",
    "\n",
    "# Define feature names (from dataset)\n",
    "feature_names = [\n",
    "    \"Age\", \"Gender\", \"BMI\", \"Family_History\", \"Physical_Activity\", \"Diet_Type\",\n",
    "    \"Smoking_Status\", \"Alcohol_Intake\", \"Stress_Level\", \"Hypertension\", \"Cholesterol_Level\",\n",
    "    \"Fasting_Blood_Sugar\", \"Postprandial_Blood_Sugar\", \"HBA1C\", \"Heart_Rate\",\n",
    "    \"Waist_Hip_Ratio\", \"Urban_Rural\", \"Health_Insurance\", \"Regular_Checkups\",\n",
    "    \"Medication_For_Chronic_Conditions\", \"Pregnancies\", \"Polycystic_Ovary_Syndrome\",\n",
    "    \"Glucose_Tolerance_Test_Result\", \"Vitamin_D_Level\", \"C_Protein_Level\", \"Thyroid_Condition\"\n",
    "]\n",
    "\n",
    "# Streamlit UI\n",
    "st.title(\"Diabetes Prediction App\")\n",
    "st.write(\"Enter patient details to predict the likelihood of diabetes.\")\n",
    "\n",
    "# Create input fields\n",
    "input_data = []\n",
    "for feature in feature_names:\n",
    "    value = st.number_input(f\"{feature}\", min_value=0.0, max_value=300.0, value=0.0)\n",
    "    input_data.append(value)\n",
    "\n",
    "# Predict button\n",
    "if st.button(\"Predict\"):\n",
    "    input_array = np.array(input_data).reshape(1, -1)\n",
    "    input_scaled = scaler.transform(input_array)  # Scale input features\n",
    "    prediction = rf_model.predict(input_scaled)[0]\n",
    "    \n",
    "    st.write(\"### Prediction:\")\n",
    "    st.write(\"✅ **Diabetic**\" if prediction == 1 else \"❌ **Non-Diabetic**\")\n"
   ]
  }
 ],
 "metadata": {
  "kernelspec": {
   "display_name": "Python 3 (ipykernel)",
   "language": "python",
   "name": "python3"
  },
  "language_info": {
   "codemirror_mode": {
    "name": "ipython",
    "version": 3
   },
   "file_extension": ".py",
   "mimetype": "text/x-python",
   "name": "python",
   "nbconvert_exporter": "python",
   "pygments_lexer": "ipython3",
   "version": "3.9.12"
  }
 },
 "nbformat": 4,
 "nbformat_minor": 5
}
